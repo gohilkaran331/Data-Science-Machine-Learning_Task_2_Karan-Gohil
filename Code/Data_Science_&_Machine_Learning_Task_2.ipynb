{
  "nbformat": 4,
  "nbformat_minor": 0,
  "metadata": {
    "colab": {
      "provenance": []
    },
    "kernelspec": {
      "name": "python3",
      "display_name": "Python 3"
    },
    "language_info": {
      "name": "python"
    }
  },
  "cells": [
    {
      "cell_type": "code",
      "execution_count": 4,
      "metadata": {
        "colab": {
          "base_uri": "https://localhost:8080/"
        },
        "id": "WytP-_SbqeuJ",
        "outputId": "f6613665-332c-4df7-d89d-6f62cca36c20"
      },
      "outputs": [
        {
          "output_type": "stream",
          "name": "stdout",
          "text": [
            "  Employee_id           Name  Annual Salary Skills_Python  Skills_Excel  \\\n",
            "0        N101       John Doe          70000      Advanced  Intermediate   \n",
            "1        L402     Jane Smith          75000  Intermediate      Advanced   \n",
            "2        S203  Alice Johnson          40000      Beginner  Intermediate   \n",
            "3        T709    Michael Lee         120000      Advanced      Advanced   \n",
            "4        B607    Chris Brown          65000  Intermediate      Beginner   \n",
            "\n",
            "     Skills_SQL  Working_years      Working_Job-Title Location_City  \\\n",
            "0      Beginner              2          Data Analysis      New York   \n",
            "1      Advanced              3  Business Intelligence        London   \n",
            "2  Intermediate              1             Data Entry        Sydney   \n",
            "3      Advanced              5       Machine Learning       Toronto   \n",
            "4  Intermediate              2       Data Engineering        Berlin   \n",
            "\n",
            "  Location_Country  \n",
            "0              USA  \n",
            "1               UK  \n",
            "2        Australia  \n",
            "3           Canada  \n",
            "4          Germany  \n"
          ]
        }
      ],
      "source": [
        "import pandas as pd\n",
        "import json\n",
        "\n",
        "# Nested JSON data\n",
        "data = {\n",
        "    \"Employee details\": [\n",
        "        {\n",
        "            \"Employee_id\": \"N101\",\n",
        "            \"Name\": \"John Doe\",\n",
        "            \"Skills\": {\"Python\": \"Advanced\", \"Excel\": \"Intermediate\", \"SQL\": \"Beginner\"},\n",
        "            \"Working\": {\"years\": 2, \"Job-Title\": \"Data Analysis\"},\n",
        "            \"Location\": {\"City\": \"New York\", \"Country\": \"USA\"},\n",
        "            \"Annual Salary\": 70000\n",
        "\n",
        "        },\n",
        "        {\n",
        "            \"Employee_id\": \"L402\",\n",
        "            \"Name\": \"Jane Smith\",\n",
        "            \"Skills\": {\"Python\": \"Intermediate\", \"Excel\": \"Advanced\", \"SQL\": \"Advanced\"},\n",
        "            \"Working\": {\"years\": 3, \"Job-Title\": \"Business Intelligence\"},\n",
        "            \"Location\": {\"City\": \"London\", \"Country\": \"UK\"},\n",
        "            \"Annual Salary\": 75000\n",
        "        },\n",
        "        {\n",
        "            \"Employee_id\": \"S203\",\n",
        "            \"Name\": \"Alice Johnson\",\n",
        "            \"Skills\": {\"Python\": \"Beginner\", \"Excel\": \"Intermediate\", \"SQL\": \"Intermediate\"},\n",
        "            \"Working\": {\"years\": 1, \"Job-Title\": \"Data Entry\"},\n",
        "            \"Location\": {\"City\": \"Sydney\", \"Country\": \"Australia\"},\n",
        "            \"Annual Salary\": 40000\n",
        "        },\n",
        "        {\n",
        "            \"Employee_id\": \"T709\",\n",
        "            \"Name\": \"Michael Lee\",\n",
        "            \"Skills\": {\"Python\": \"Advanced\", \"Excel\": \"Advanced\", \"SQL\": \"Advanced\"},\n",
        "            \"Working\": {\"years\": 5, \"Job-Title\": \"Machine Learning\"},\n",
        "            \"Location\": {\"City\": \"Toronto\", \"Country\": \"Canada\"},\n",
        "            \"Annual Salary\": 120000\n",
        "        },\n",
        "        {\n",
        "            \"Employee_id\": \"B607\",\n",
        "            \"Name\": \"Chris Brown\",\n",
        "            \"Skills\": {\"Python\": \"Intermediate\", \"Excel\": \"Beginner\", \"SQL\": \"Intermediate\"},\n",
        "            \"Working\": {\"years\": 2, \"Job-Title\": \"Data Engineering\"},\n",
        "            \"Location\": {\"City\": \"Berlin\", \"Country\": \"Germany\"},\n",
        "            \"Annual Salary\": 65000\n",
        "        }\n",
        "    ]\n",
        "}\n",
        "\n",
        "# Normalizing JSON data\n",
        "df = pd.json_normalize(\n",
        "    data[\"Employee details\"],\n",
        "    sep=\"_\"\n",
        ")\n",
        "\n",
        "# Display the DataFrame\n",
        "print(df)"
      ]
    },
    {
      "cell_type": "code",
      "source": [],
      "metadata": {
        "id": "ivqB9-R_tj__"
      },
      "execution_count": null,
      "outputs": []
    }
  ]
}